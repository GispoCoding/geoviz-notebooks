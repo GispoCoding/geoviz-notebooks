{
 "cells": [
  {
   "cell_type": "markdown",
   "id": "ff43483b",
   "metadata": {},
   "source": [
    "This notebook contains the commands to export selected visualizations as HTML.\n",
    "\n",
    "Just run this notebook to save the visualizations as interactive HTML maps. Use the [visualize](./visualize.ipynb) notebook if you want to learn how to create dataframes and visualizations from PostGIS data."
   ]
  },
  {
   "cell_type": "code",
   "execution_count": 1,
   "id": "1f85f306",
   "metadata": {},
   "outputs": [],
   "source": [
    "import sys\n",
    "from ipygis import get_connection_url, QueryResult, get_map, generate_map\n",
    "from sqlalchemy import create_engine\n",
    "from sqlalchemy.orm import sessionmaker\n",
    "\n",
    "from kepler_h3_config import config  # we may use our own custom visualization config"
   ]
  },
  {
   "cell_type": "code",
   "execution_count": 2,
   "id": "fb92b703",
   "metadata": {},
   "outputs": [],
   "source": [
    "sql_url = get_connection_url(dbname='geoviz')\n",
    "engine = create_engine(sql_url)\n",
    "session = sessionmaker(bind=engine)()\n",
    "\n",
    "sys.path.insert(0, '..')\n",
    "from models import OSMPoint, OSMPolygon, FlickrPoint, GTFSStop, OSMAccessNode, OoklaPoint, KonturPoint\n",
    "from osm_tags import tag_filter"
   ]
  },
  {
   "cell_type": "code",
   "execution_count": 3,
   "id": "a75b9267",
   "metadata": {},
   "outputs": [],
   "source": [
    "places_query = session.query(OSMPoint).filter(tag_filter)\n",
    "photos_query = session.query(FlickrPoint)\n",
    "stops_query = session.query(GTFSStop)\n",
    "access_points_query = session.query(OSMAccessNode)\n",
    "ookla_query = session.query(OoklaPoint)\n",
    "kontur_query = session.query(KonturPoint)"
   ]
  },
  {
   "cell_type": "markdown",
   "id": "da690f88",
   "metadata": {},
   "source": [
    "You may visualize all points in any database query by simply"
   ]
  },
  {
   "cell_type": "code",
   "execution_count": 4,
   "id": "50821f91",
   "metadata": {},
   "outputs": [
    {
     "name": "stdout",
     "output_type": "stream",
     "text": [
      "User Guide: https://docs.kepler.gl/docs/keplergl-jupyter\n"
     ]
    },
    {
     "data": {
      "application/vnd.jupyter.widget-view+json": {
       "model_id": "6f608eb553f64a02a08834abb900a597",
       "version_major": 2,
       "version_minor": 0
      },
      "text/plain": [
       "KeplerGl(config={'version': 'v1', 'config': {'visState': {'filters': [], 'layers': [{'id': 'data_1', 'type': '…"
      ]
     },
     "metadata": {},
     "output_type": "display_data"
    }
   ],
   "source": [
    "get_map(ookla_query)"
   ]
  },
  {
   "cell_type": "markdown",
   "id": "403853ec",
   "metadata": {},
   "source": [
    "Datasets\n",
    "--------\n",
    "\n",
    "The next phase will take a while. Here we actually create all the dataframes in memory (using H3 hex resolution 8), from the whole database."
   ]
  },
  {
   "cell_type": "markdown",
   "metadata": {},
   "source": [
    "The **places** dataset simply sums the *number of amenity POIs* in each H3 hex. The larger areas you have imported, the longer this query will take:"
   ]
  },
  {
   "cell_type": "code",
   "execution_count": 4,
   "metadata": {},
   "outputs": [],
   "source": [
    "places = QueryResult.create(places_query, resolution=8, name='places')"
   ]
  },
  {
   "cell_type": "markdown",
   "metadata": {},
   "source": [
    "The **photographers** dataset calculates the *number of people taking photos* in each H3 hex. Grouping the points by hex and photographer takes a while:"
   ]
  },
  {
   "cell_type": "code",
   "execution_count": 5,
   "metadata": {},
   "outputs": [],
   "source": [
    "photographers = QueryResult.create(photos_query, resolution=8, name='photographers', group_by='properties.owner')"
   ]
  },
  {
   "cell_type": "markdown",
   "metadata": {},
   "source": [
    "The **trips** dataset calculates the *number of trips leaving from all transit stops* in the H3 hex in a single day. This shouldn't take too long:"
   ]
  },
  {
   "cell_type": "code",
   "execution_count": 6,
   "metadata": {},
   "outputs": [],
   "source": [
    "trips = QueryResult.create(stops_query, resolution=8, name='trips', plot='sum', column='properties.ntrips')"
   ]
  },
  {
   "cell_type": "markdown",
   "metadata": {},
   "source": [
    "The **access** dataset calculates the *average walking time to 5th closest amenity* in each H3 hex. The amount of walking nodes is quite big so this is a slow query:"
   ]
  },
  {
   "cell_type": "code",
   "execution_count": 7,
   "metadata": {},
   "outputs": [],
   "source": [
    "access = QueryResult.create(access_points_query, resolution=8, name='access', plot='mean', column='accessibilities.5')"
   ]
  },
  {
   "cell_type": "markdown",
   "metadata": {},
   "source": [
    "The **devices** dataset calculates the *number of broadband devices* making speedtests in each H3 hex. (Alternatively, we could consider the average broadband speeds in the hex.) This should be fast:"
   ]
  },
  {
   "cell_type": "code",
   "execution_count": 8,
   "metadata": {},
   "outputs": [],
   "source": [
    "speeds = QueryResult.create(ookla_query, resolution=8, name='speeds', plot='mean', column='properties.avg_d_kbps')\n",
    "devices = QueryResult.create(ookla_query, resolution=8, name='devices', plot='sum', column='properties.devices')"
   ]
  },
  {
   "cell_type": "markdown",
   "metadata": {},
   "source": [
    "The **population** dataset contains the *approximate population* in the H3 hex. This should be fast:"
   ]
  },
  {
   "cell_type": "code",
   "execution_count": 9,
   "metadata": {},
   "outputs": [],
   "source": [
    "population = QueryResult.create(kontur_query, resolution=8, name='population', plot='sum', column='properties.population')"
   ]
  },
  {
   "cell_type": "markdown",
   "id": "78b58882",
   "metadata": {},
   "source": [
    "Visualization\n",
    "-------------\n",
    "\n",
    "Once the QueryResults exist, calculating the sum map from dataframes should be relatively fast. Layer weights in the sum may be customized here if you want to emphasize or leave out some datasets.\n",
    "\n",
    "(Note that access layer has *negative* weight, because smaller walking times indicate better pedestrian access to amenities.)"
   ]
  },
  {
   "cell_type": "code",
   "execution_count": 11,
   "id": "79c7de73",
   "metadata": {},
   "outputs": [],
   "source": [
    "results = [places, photographers, trips, access, devices, population]\n",
    "columns = ['size', 'size', 'ntrips', '5', 'devices', 'population']\n",
    "weights = [1, 1, 1, -1, 1, 1]"
   ]
  },
  {
   "cell_type": "code",
   "execution_count": 7,
   "id": "2a301d73",
   "metadata": {},
   "outputs": [
    {
     "name": "stdout",
     "output_type": "stream",
     "text": [
      "User Guide: https://docs.kepler.gl/docs/keplergl-jupyter\n",
      "Map saved to keplergl_map.html!\n"
     ]
    },
    {
     "data": {
      "application/vnd.jupyter.widget-view+json": {
       "model_id": "bce5899a847c4fc9af73099d35794001",
       "version_major": 2,
       "version_minor": 0
      },
      "text/plain": [
       "KeplerGl(config={'version': 'v1', 'config': {'visState': {'filters': [], 'layers': [{'id': 'hex8_places', 'typ…"
      ]
     },
     "metadata": {},
     "output_type": "display_data"
    }
   ],
   "source": [
    "result_map = generate_map(results, 500, config=config, column=columns, weights=weights)\n",
    "result_map.save_to_html()\n",
    "result_map"
   ]
  },
  {
   "cell_type": "code",
   "execution_count": null,
   "id": "80e43a40",
   "metadata": {},
   "outputs": [],
   "source": []
  }
 ],
 "metadata": {
  "kernelspec": {
   "display_name": "miniconda3-latest",
   "language": "python",
   "name": "miniconda3-latest"
  },
  "language_info": {
   "codemirror_mode": {
    "name": "ipython",
    "version": 3
   },
   "file_extension": ".py",
   "mimetype": "text/x-python",
   "name": "python",
   "nbconvert_exporter": "python",
   "pygments_lexer": "ipython3",
   "version": "3.8.5"
  }
 },
 "nbformat": 4,
 "nbformat_minor": 5
}
