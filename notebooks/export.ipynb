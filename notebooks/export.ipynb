{
 "cells": [
  {
   "cell_type": "markdown",
   "id": "ff43483b",
   "metadata": {},
   "source": [
    "This notebook contains the commands to export selected visualizations as HTML. Just run the notebook to save the visualizations as interactive HTML maps. Use the [visualize](./visualize.ipynb) notebook if you want to learn how to create dataframes and visualizations from PostGIS data."
   ]
  },
  {
   "cell_type": "code",
   "execution_count": 1,
   "id": "1f85f306",
   "metadata": {},
   "outputs": [],
   "source": [
    "import sys\n",
    "from ipygis import get_connection_url, QueryResult, generate_map\n",
    "from sqlalchemy import create_engine\n",
    "from sqlalchemy.orm import sessionmaker\n",
    "\n",
    "from kepler_h3_config import config  # we may use our own custom visualization config"
   ]
  },
  {
   "cell_type": "code",
   "execution_count": 2,
   "id": "fb92b703",
   "metadata": {},
   "outputs": [],
   "source": [
    "sql_url = get_connection_url(dbname='geoviz')\n",
    "engine = create_engine(sql_url)\n",
    "session = sessionmaker(bind=engine)()\n",
    "\n",
    "sys.path.insert(0, '..')\n",
    "from models import OSMPoint, OSMPolygon, FlickrPoint, GTFSStop, OSMAccessNode, OoklaPoint, KonturPoint"
   ]
  },
  {
   "cell_type": "markdown",
   "id": "2d996536",
   "metadata": {},
   "source": [
    "The next phase will take a while. Here we actually create the dataframes in memory, from the whole database."
   ]
  },
  {
   "cell_type": "code",
   "execution_count": 3,
   "id": "b87caa2b",
   "metadata": {},
   "outputs": [],
   "source": [
    "eating_query = session.query(OSMPoint).filter(OSMPoint.tags['amenity'].astext.in_(\n",
    "    ['restaurant','bar','pub','biergarten','cafe','fast_food','food_court','ice_cream']\n",
    "))\n",
    "culture_query = session.query(OSMPoint).filter(OSMPoint.tags['amenity'].astext.in_(\n",
    "    ['arts_centre','cinema','community_centre','conference_centre','events_venue','nightclub','theatre']\n",
    ")|(OSMPoint.tags['tourism'].astext.in_(['museum','gallery'])))\n",
    "shops_query = session.query(OSMPoint).filter(OSMPoint.tags.has_key('shop'))\n",
    "photos_query = session.query(FlickrPoint)\n",
    "stops_query = session.query(GTFSStop)\n",
    "access_points_query = session.query(OSMAccessNode)\n",
    "\n",
    "eating = QueryResult.create(eating_query, resolution=8, name='eating')\n",
    "culture = QueryResult.create(culture_query, resolution=8, name='culture')\n",
    "shops = QueryResult.create(shops_query, resolution=8, name='shops')\n",
    "photographers = QueryResult.create(photos_query, resolution=8, name='photographers', group_by='properties.owner')\n",
    "trips = QueryResult.create(stops_query, resolution=8, name='trips', plot='sum', column='properties.ntrips')\n",
    "access = QueryResult.create(access_points_query, resolution=8, name='access', plot='mean', column='accessibilities.5')"
   ]
  },
  {
   "cell_type": "markdown",
   "id": "78b58882",
   "metadata": {},
   "source": [
    "Once the QueryResults exist, calculating the sum map from dataframes should be relatively fast."
   ]
  },
  {
   "cell_type": "code",
   "execution_count": 4,
   "id": "79c7de73",
   "metadata": {},
   "outputs": [],
   "source": [
    "results = [eating, culture, shops, photographers, trips, access]\n",
    "columns = ['size', 'size', 'size', 'size', 'ntrips', '5']\n",
    "weights = [1, 1, 1, 1, 1, -1]\n",
    "#results = [eating, culture]\n",
    "#columns = ['size', 'size']\n",
    "#weights = [1, 1]"
   ]
  },
  {
   "cell_type": "code",
   "execution_count": 9,
   "id": "757b0931",
   "metadata": {},
   "outputs": [],
   "source": [
    "ookla_query = session.query(OoklaPoint)\n",
    "speeds = QueryResult.create(ookla_query, resolution=8, name='speeds', plot='mean', column='properties.avg_d_kbps')\n",
    "devices = QueryResult.create(ookla_query, resolution=8, name='devices', plot='sum', column='properties.devices')"
   ]
  },
  {
   "cell_type": "code",
   "execution_count": 3,
   "id": "652268b2",
   "metadata": {},
   "outputs": [],
   "source": [
    "kontur_query = session.query(KonturPoint)\n",
    "population = QueryResult.create(kontur_query, resolution=8, name='population', plot='sum', column='properties.population')"
   ]
  },
  {
   "cell_type": "code",
   "execution_count": 4,
   "id": "7f00de40",
   "metadata": {},
   "outputs": [],
   "source": [
    "results = [population]\n",
    "columns = ['population']\n",
    "weights = [1]"
   ]
  },
  {
   "cell_type": "code",
   "execution_count": 5,
   "id": "2a301d73",
   "metadata": {},
   "outputs": [
    {
     "name": "stdout",
     "output_type": "stream",
     "text": [
      "User Guide: https://docs.kepler.gl/docs/keplergl-jupyter\n",
      "Map saved to keplergl_map.html!\n"
     ]
    },
    {
     "data": {
      "application/vnd.jupyter.widget-view+json": {
       "model_id": "703cf046de86405cb7f400de7930946b",
       "version_major": 2,
       "version_minor": 0
      },
      "text/plain": [
       "KeplerGl(config={'version': 'v1', 'config': {'visState': {'filters': [], 'layers': [{'id': 'hex8_population', …"
      ]
     },
     "metadata": {},
     "output_type": "display_data"
    }
   ],
   "source": [
    "result_map = generate_map(results, 500, config=config, column=columns, weights=weights)\n",
    "result_map.save_to_html()\n",
    "result_map"
   ]
  },
  {
   "cell_type": "code",
   "execution_count": 7,
   "id": "84ba10e1",
   "metadata": {},
   "outputs": [
    {
     "data": {
      "text/html": [
       "<div>\n",
       "<style scoped>\n",
       "    .dataframe tbody tr th:only-of-type {\n",
       "        vertical-align: middle;\n",
       "    }\n",
       "\n",
       "    .dataframe tbody tr th {\n",
       "        vertical-align: top;\n",
       "    }\n",
       "\n",
       "    .dataframe thead th {\n",
       "        text-align: right;\n",
       "    }\n",
       "</style>\n",
       "<table border=\"1\" class=\"dataframe\">\n",
       "  <thead>\n",
       "    <tr style=\"text-align: right;\">\n",
       "      <th></th>\n",
       "      <th>size</th>\n",
       "      <th>geometry</th>\n",
       "      <th>hex8</th>\n",
       "    </tr>\n",
       "    <tr>\n",
       "      <th>hex8</th>\n",
       "      <th></th>\n",
       "      <th></th>\n",
       "      <th></th>\n",
       "    </tr>\n",
       "  </thead>\n",
       "  <tbody>\n",
       "    <tr>\n",
       "      <th>881126daddfffff</th>\n",
       "      <td>1</td>\n",
       "      <td>POINT (25.0643072292023348 60.1523554922848618)</td>\n",
       "      <td>881126daddfffff</td>\n",
       "    </tr>\n",
       "    <tr>\n",
       "      <th>881126dadbfffff</th>\n",
       "      <td>1</td>\n",
       "      <td>POINT (25.0703690561534067 60.1656013096080358)</td>\n",
       "      <td>881126dadbfffff</td>\n",
       "    </tr>\n",
       "    <tr>\n",
       "      <th>881126dad9fffff</th>\n",
       "      <td>1</td>\n",
       "      <td>POINT (25.0607402808084814 60.1598585079772477)</td>\n",
       "      <td>881126dad9fffff</td>\n",
       "    </tr>\n",
       "    <tr>\n",
       "      <th>881126dad7fffff</th>\n",
       "      <td>1</td>\n",
       "      <td>POINT (25.0871297965543150 60.1563356810106313)</td>\n",
       "      <td>881126dad7fffff</td>\n",
       "    </tr>\n",
       "    <tr>\n",
       "      <th>881126dad5fffff</th>\n",
       "      <td>1</td>\n",
       "      <td>POINT (25.0774991801554847 60.1505939377351027)</td>\n",
       "      <td>881126dad5fffff</td>\n",
       "    </tr>\n",
       "    <tr>\n",
       "      <th>...</th>\n",
       "      <td>...</td>\n",
       "      <td>...</td>\n",
       "      <td>...</td>\n",
       "    </tr>\n",
       "    <tr>\n",
       "      <th>8808996889fffff</th>\n",
       "      <td>1</td>\n",
       "      <td>POINT (24.7788194363499876 60.2321608755370690)</td>\n",
       "      <td>8808996889fffff</td>\n",
       "    </tr>\n",
       "    <tr>\n",
       "      <th>8808996887fffff</th>\n",
       "      <td>1</td>\n",
       "      <td>POINT (24.8052182367291678 60.2287093198884591)</td>\n",
       "      <td>8808996887fffff</td>\n",
       "    </tr>\n",
       "    <tr>\n",
       "      <th>8808996885fffff</th>\n",
       "      <td>1</td>\n",
       "      <td>POINT (24.7956422524874505 60.2229528410028010)</td>\n",
       "      <td>8808996885fffff</td>\n",
       "    </tr>\n",
       "    <tr>\n",
       "      <th>8808996883fffff</th>\n",
       "      <td>1</td>\n",
       "      <td>POINT (24.8015957439029222 60.2361927734795728)</td>\n",
       "      <td>8808996883fffff</td>\n",
       "    </tr>\n",
       "    <tr>\n",
       "      <th>8808996881fffff</th>\n",
       "      <td>1</td>\n",
       "      <td>POINT (24.7920186196572914 60.2304358722164537)</td>\n",
       "      <td>8808996881fffff</td>\n",
       "    </tr>\n",
       "  </tbody>\n",
       "</table>\n",
       "<p>745 rows × 3 columns</p>\n",
       "</div>"
      ],
      "text/plain": [
       "                 size                                         geometry  \\\n",
       "hex8                                                                     \n",
       "881126daddfffff     1  POINT (25.0643072292023348 60.1523554922848618)   \n",
       "881126dadbfffff     1  POINT (25.0703690561534067 60.1656013096080358)   \n",
       "881126dad9fffff     1  POINT (25.0607402808084814 60.1598585079772477)   \n",
       "881126dad7fffff     1  POINT (25.0871297965543150 60.1563356810106313)   \n",
       "881126dad5fffff     1  POINT (25.0774991801554847 60.1505939377351027)   \n",
       "...               ...                                              ...   \n",
       "8808996889fffff     1  POINT (24.7788194363499876 60.2321608755370690)   \n",
       "8808996887fffff     1  POINT (24.8052182367291678 60.2287093198884591)   \n",
       "8808996885fffff     1  POINT (24.7956422524874505 60.2229528410028010)   \n",
       "8808996883fffff     1  POINT (24.8015957439029222 60.2361927734795728)   \n",
       "8808996881fffff     1  POINT (24.7920186196572914 60.2304358722164537)   \n",
       "\n",
       "                            hex8  \n",
       "hex8                              \n",
       "881126daddfffff  881126daddfffff  \n",
       "881126dadbfffff  881126dadbfffff  \n",
       "881126dad9fffff  881126dad9fffff  \n",
       "881126dad7fffff  881126dad7fffff  \n",
       "881126dad5fffff  881126dad5fffff  \n",
       "...                          ...  \n",
       "8808996889fffff  8808996889fffff  \n",
       "8808996887fffff  8808996887fffff  \n",
       "8808996885fffff  8808996885fffff  \n",
       "8808996883fffff  8808996883fffff  \n",
       "8808996881fffff  8808996881fffff  \n",
       "\n",
       "[745 rows x 3 columns]"
      ]
     },
     "execution_count": 7,
     "metadata": {},
     "output_type": "execute_result"
    }
   ],
   "source": [
    "population.gdf"
   ]
  },
  {
   "cell_type": "code",
   "execution_count": 7,
   "id": "9948b0ef",
   "metadata": {},
   "outputs": [
    {
     "data": {
      "text/html": [
       "<div>\n",
       "<style scoped>\n",
       "    .dataframe tbody tr th:only-of-type {\n",
       "        vertical-align: middle;\n",
       "    }\n",
       "\n",
       "    .dataframe tbody tr th {\n",
       "        vertical-align: top;\n",
       "    }\n",
       "\n",
       "    .dataframe thead th {\n",
       "        text-align: right;\n",
       "    }\n",
       "</style>\n",
       "<table border=\"1\" class=\"dataframe\">\n",
       "  <thead>\n",
       "    <tr style=\"text-align: right;\">\n",
       "      <th></th>\n",
       "      <th>size</th>\n",
       "      <th>geometry</th>\n",
       "      <th>hex8</th>\n",
       "    </tr>\n",
       "    <tr>\n",
       "      <th>hex8</th>\n",
       "      <th></th>\n",
       "      <th></th>\n",
       "      <th></th>\n",
       "    </tr>\n",
       "  </thead>\n",
       "  <tbody>\n",
       "    <tr>\n",
       "      <th>88098a7933fffff</th>\n",
       "      <td>1</td>\n",
       "      <td>POINT (9.93362 60.24170)</td>\n",
       "      <td>88098a7933fffff</td>\n",
       "    </tr>\n",
       "    <tr>\n",
       "      <th>880999b115fffff</th>\n",
       "      <td>1</td>\n",
       "      <td>POINT (9.93934 60.03689)</td>\n",
       "      <td>880999b115fffff</td>\n",
       "    </tr>\n",
       "    <tr>\n",
       "      <th>880999a0e1fffff</th>\n",
       "      <td>1</td>\n",
       "      <td>POINT (10.22517 60.11204)</td>\n",
       "      <td>880999a0e1fffff</td>\n",
       "    </tr>\n",
       "    <tr>\n",
       "      <th>880999a819fffff</th>\n",
       "      <td>1</td>\n",
       "      <td>POINT (10.32643 60.01748)</td>\n",
       "      <td>880999a819fffff</td>\n",
       "    </tr>\n",
       "    <tr>\n",
       "      <th>880999a9d7fffff</th>\n",
       "      <td>1</td>\n",
       "      <td>POINT (10.41718 60.00552)</td>\n",
       "      <td>880999a9d7fffff</td>\n",
       "    </tr>\n",
       "    <tr>\n",
       "      <th>...</th>\n",
       "      <td>...</td>\n",
       "      <td>...</td>\n",
       "      <td>...</td>\n",
       "    </tr>\n",
       "    <tr>\n",
       "      <th>8811068c61fffff</th>\n",
       "      <td>1</td>\n",
       "      <td>POINT (29.89642 59.88930)</td>\n",
       "      <td>8811068c61fffff</td>\n",
       "    </tr>\n",
       "    <tr>\n",
       "      <th>881106a911fffff</th>\n",
       "      <td>1</td>\n",
       "      <td>POINT (30.35183 60.00927)</td>\n",
       "      <td>881106a911fffff</td>\n",
       "    </tr>\n",
       "    <tr>\n",
       "      <th>8811044113fffff</th>\n",
       "      <td>1</td>\n",
       "      <td>POINT (29.56856 60.25292)</td>\n",
       "      <td>8811044113fffff</td>\n",
       "    </tr>\n",
       "    <tr>\n",
       "      <th>881106cc99fffff</th>\n",
       "      <td>1</td>\n",
       "      <td>POINT (30.12336 59.58454)</td>\n",
       "      <td>881106cc99fffff</td>\n",
       "    </tr>\n",
       "    <tr>\n",
       "      <th>8811067739fffff</th>\n",
       "      <td>1</td>\n",
       "      <td>POINT (30.78605 59.76203)</td>\n",
       "      <td>8811067739fffff</td>\n",
       "    </tr>\n",
       "  </tbody>\n",
       "</table>\n",
       "<p>9703 rows × 3 columns</p>\n",
       "</div>"
      ],
      "text/plain": [
       "                 size                   geometry             hex8\n",
       "hex8                                                             \n",
       "88098a7933fffff     1   POINT (9.93362 60.24170)  88098a7933fffff\n",
       "880999b115fffff     1   POINT (9.93934 60.03689)  880999b115fffff\n",
       "880999a0e1fffff     1  POINT (10.22517 60.11204)  880999a0e1fffff\n",
       "880999a819fffff     1  POINT (10.32643 60.01748)  880999a819fffff\n",
       "880999a9d7fffff     1  POINT (10.41718 60.00552)  880999a9d7fffff\n",
       "...               ...                        ...              ...\n",
       "8811068c61fffff     1  POINT (29.89642 59.88930)  8811068c61fffff\n",
       "881106a911fffff     1  POINT (30.35183 60.00927)  881106a911fffff\n",
       "8811044113fffff     1  POINT (29.56856 60.25292)  8811044113fffff\n",
       "881106cc99fffff     1  POINT (30.12336 59.58454)  881106cc99fffff\n",
       "8811067739fffff     1  POINT (30.78605 59.76203)  8811067739fffff\n",
       "\n",
       "[9703 rows x 3 columns]"
      ]
     },
     "execution_count": 7,
     "metadata": {},
     "output_type": "execute_result"
    }
   ],
   "source": [
    "eating.gdf"
   ]
  },
  {
   "cell_type": "code",
   "execution_count": null,
   "id": "4a6f6525",
   "metadata": {},
   "outputs": [],
   "source": []
  }
 ],
 "metadata": {
  "kernelspec": {
   "display_name": "miniconda3-latest",
   "language": "python",
   "name": "miniconda3-latest"
  },
  "language_info": {
   "codemirror_mode": {
    "name": "ipython",
    "version": 3
   },
   "file_extension": ".py",
   "mimetype": "text/x-python",
   "name": "python",
   "nbconvert_exporter": "python",
   "pygments_lexer": "ipython3",
   "version": "3.8.5"
  }
 },
 "nbformat": 4,
 "nbformat_minor": 5
}
