{
 "cells": [
  {
   "cell_type": "markdown",
   "id": "ff43483b",
   "metadata": {},
   "source": [
    "This notebook contains the commands to export selected visualizations as HTML. Just run the notebook to save the visualizations as interactive HTML maps. Use the [visualize](./visualize.ipynb) notebook if you want to learn how to create dataframes and visualizations from PostGIS data."
   ]
  },
  {
   "cell_type": "code",
   "execution_count": 1,
   "id": "1f85f306",
   "metadata": {},
   "outputs": [],
   "source": [
    "import sys\n",
    "from ipygis import get_connection_url, QueryResult, generate_map\n",
    "from sqlalchemy import create_engine\n",
    "from sqlalchemy.orm import sessionmaker\n",
    "\n",
    "from kepler_h3_config import config  # we may use our own custom visualization config"
   ]
  },
  {
   "cell_type": "code",
   "execution_count": 2,
   "id": "fb92b703",
   "metadata": {},
   "outputs": [],
   "source": [
    "sql_url = get_connection_url(dbname='geoviz')\n",
    "engine = create_engine(sql_url)\n",
    "session = sessionmaker(bind=engine)()\n",
    "\n",
    "sys.path.insert(0, '..')\n",
    "from models import OSMPoint, OSMPolygon, FlickrPoint, GTFSStop, OSMAccessNode, OoklaPoint, KonturPoint"
   ]
  },
  {
   "cell_type": "markdown",
   "id": "2d996536",
   "metadata": {},
   "source": [
    "The next phase will take a while. Here we actually create all the dataframes in memory, from the whole database."
   ]
  },
  {
   "cell_type": "code",
   "execution_count": 3,
   "id": "b87caa2b",
   "metadata": {},
   "outputs": [],
   "source": [
    "eating_query = session.query(OSMPoint).filter(OSMPoint.tags['amenity'].astext.in_(\n",
    "    ['restaurant','bar','pub','biergarten','cafe','fast_food','food_court','ice_cream']\n",
    "))\n",
    "culture_query = session.query(OSMPoint).filter(OSMPoint.tags['amenity'].astext.in_(\n",
    "    ['arts_centre','cinema','community_centre','conference_centre','events_venue','nightclub','theatre']\n",
    ")|(OSMPoint.tags['tourism'].astext.in_(['museum','gallery'])))\n",
    "shops_query = session.query(OSMPoint).filter(OSMPoint.tags.has_key('shop'))\n",
    "\n",
    "eating = QueryResult.create(eating_query, resolution=8, name='eating')\n",
    "culture = QueryResult.create(culture_query, resolution=8, name='culture')\n",
    "shops = QueryResult.create(shops_query, resolution=8, name='shops')"
   ]
  },
  {
   "cell_type": "code",
   "execution_count": 4,
   "id": "9d33d134",
   "metadata": {},
   "outputs": [],
   "source": [
    "photos_query = session.query(FlickrPoint)\n",
    "photographers = QueryResult.create(photos_query, resolution=8, name='photographers', group_by='properties.owner')"
   ]
  },
  {
   "cell_type": "code",
   "execution_count": 5,
   "id": "372fae7e",
   "metadata": {},
   "outputs": [],
   "source": [
    "stops_query = session.query(GTFSStop)\n",
    "trips = QueryResult.create(stops_query, resolution=8, name='trips', plot='sum', column='properties.ntrips')"
   ]
  },
  {
   "cell_type": "code",
   "execution_count": 6,
   "id": "1c32f03f",
   "metadata": {},
   "outputs": [],
   "source": [
    "access_points_query = session.query(OSMAccessNode)\n",
    "access = QueryResult.create(access_points_query, resolution=8, name='access', plot='mean', column='accessibilities.5')"
   ]
  },
  {
   "cell_type": "code",
   "execution_count": 7,
   "id": "757b0931",
   "metadata": {},
   "outputs": [],
   "source": [
    "ookla_query = session.query(OoklaPoint)\n",
    "speeds = QueryResult.create(ookla_query, resolution=8, name='speeds', plot='mean', column='properties.avg_d_kbps')\n",
    "devices = QueryResult.create(ookla_query, resolution=8, name='devices', plot='sum', column='properties.devices')"
   ]
  },
  {
   "cell_type": "code",
   "execution_count": 8,
   "id": "baa2eec3",
   "metadata": {},
   "outputs": [],
   "source": [
    "kontur_query = session.query(KonturPoint)\n",
    "population = QueryResult.create(kontur_query, resolution=8, name='population', plot='sum', column='properties.population')"
   ]
  },
  {
   "cell_type": "markdown",
   "id": "78b58882",
   "metadata": {},
   "source": [
    "Once the QueryResults exist, calculating the sum map from dataframes should be relatively fast."
   ]
  },
  {
   "cell_type": "code",
   "execution_count": 9,
   "id": "79c7de73",
   "metadata": {},
   "outputs": [],
   "source": [
    "results = [eating, culture, shops, trips, population, devices]\n",
    "columns = ['size', 'size', 'size', 'ntrips', 'population', 'devices']\n",
    "weights = [1, 1, 1, 1, 1, 1]"
   ]
  },
  {
   "cell_type": "code",
   "execution_count": 10,
   "id": "2a301d73",
   "metadata": {},
   "outputs": [
    {
     "name": "stdout",
     "output_type": "stream",
     "text": [
      "User Guide: https://docs.kepler.gl/docs/keplergl-jupyter\n",
      "Map saved to keplergl_map.html!\n"
     ]
    },
    {
     "data": {
      "application/vnd.jupyter.widget-view+json": {
       "model_id": "84070d22088c47f5a3242477b09fa528",
       "version_major": 2,
       "version_minor": 0
      },
      "text/plain": [
       "KeplerGl(config={'version': 'v1', 'config': {'visState': {'filters': [], 'layers': [{'id': 'hex8_eating', 'typ…"
      ]
     },
     "metadata": {},
     "output_type": "display_data"
    }
   ],
   "source": [
    "result_map = generate_map(results, 500, config=config, column=columns, weights=weights)\n",
    "result_map.save_to_html()\n",
    "result_map"
   ]
  },
  {
   "cell_type": "code",
   "execution_count": null,
   "id": "80e43a40",
   "metadata": {},
   "outputs": [],
   "source": []
  }
 ],
 "metadata": {
  "kernelspec": {
   "display_name": "miniconda3-latest",
   "language": "python",
   "name": "miniconda3-latest"
  },
  "language_info": {
   "codemirror_mode": {
    "name": "ipython",
    "version": 3
   },
   "file_extension": ".py",
   "mimetype": "text/x-python",
   "name": "python",
   "nbconvert_exporter": "python",
   "pygments_lexer": "ipython3",
   "version": "3.8.5"
  }
 },
 "nbformat": 4,
 "nbformat_minor": 5
}
