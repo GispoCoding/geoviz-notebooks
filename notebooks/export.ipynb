{
 "cells": [
  {
   "cell_type": "markdown",
   "metadata": {},
   "source": [
    "This notebook contains the commands to export selected visualizations as HTML.\n",
    "\n",
    "Just run this notebook to save the visualizations as interactive HTML maps. Use the [visualize](./visualize.ipynb) notebook if you want to learn how to create dataframes and visualizations from PostGIS data."
   ]
  },
  {
   "cell_type": "code",
   "execution_count": 1,
   "metadata": {},
   "outputs": [],
   "source": [
    "import sys\n",
    "from ipygis import get_connection_url, QueryResult, get_map, generate_map\n",
    "from sqlalchemy import create_engine\n",
    "from sqlalchemy.orm import sessionmaker\n",
    "\n",
    "from kepler_h3_config import config  # we may use our own custom visualization config"
   ]
  },
  {
   "cell_type": "markdown",
   "metadata": {},
   "source": [
    "This variable changes the city that we wish to plot. Data for different cities are in different database schemas:"
   ]
  },
  {
   "cell_type": "code",
   "execution_count": 2,
   "metadata": {},
   "outputs": [],
   "source": [
    "city = 'helsinki'"
   ]
  },
  {
   "cell_type": "code",
   "execution_count": 3,
   "metadata": {},
   "outputs": [],
   "source": [
    "sql_url = get_connection_url(dbname='geoviz')\n",
    "engine = create_engine(sql_url)\n",
    "schema_engine = engine.execution_options(\n",
    "    schema_translate_map={'schema': city}\n",
    ")\n",
    "session = sessionmaker(bind=schema_engine)()\n",
    "\n",
    "sys.path.insert(0, '..')\n",
    "from models import OSMPoint, FlickrPoint, GTFSStop, OSMAccessNode, OoklaPoint, KonturPoint\n",
    "from osm_tags import tag_filter"
   ]
  },
  {
   "cell_type": "markdown",
   "metadata": {},
   "source": [
    "The database queries that make up our analysis are"
   ]
  },
  {
   "cell_type": "code",
   "execution_count": 4,
   "metadata": {},
   "outputs": [],
   "source": [
    "places_query = session.query(OSMPoint).filter(tag_filter)\n",
    "photos_query = session.query(FlickrPoint)\n",
    "stops_query = session.query(GTFSStop)\n",
    "access_points_query = session.query(OSMAccessNode)\n",
    "ookla_query = session.query(OoklaPoint)\n",
    "kontur_query = session.query(KonturPoint)"
   ]
  },
  {
   "cell_type": "markdown",
   "metadata": {},
   "source": [
    "You may visualize all points in any database query by simply"
   ]
  },
  {
   "cell_type": "code",
   "execution_count": 5,
   "metadata": {},
   "outputs": [
    {
     "name": "stdout",
     "output_type": "stream",
     "text": [
      "User Guide: https://docs.kepler.gl/docs/keplergl-jupyter\n"
     ]
    },
    {
     "data": {
      "application/vnd.jupyter.widget-view+json": {
       "model_id": "b387e7912ecb4289b9be2aff92e071a5",
       "version_major": 2,
       "version_minor": 0
      },
      "text/plain": [
       "KeplerGl(config={'version': 'v1', 'config': {'visState': {'filters': [], 'layers': [{'id': 'data_1', 'type': '…"
      ]
     },
     "metadata": {},
     "output_type": "display_data"
    }
   ],
   "source": [
    "get_map(ookla_query)"
   ]
  },
  {
   "cell_type": "markdown",
   "metadata": {},
   "source": [
    "Datasets\n",
    "--------\n",
    "\n",
    "The next phase will take a while. Here we actually create all the dataframes in memory (using H3 hex resolution 8), from the whole database."
   ]
  },
  {
   "cell_type": "markdown",
   "metadata": {},
   "source": [
    "The **places** dataset simply sums the *number of amenity POIs* in each H3 hex. The larger areas you have imported, the longer this query will take:"
   ]
  },
  {
   "cell_type": "code",
   "execution_count": 6,
   "metadata": {},
   "outputs": [],
   "source": [
    "places = QueryResult.create(places_query, resolution=8, name='places')"
   ]
  },
  {
   "cell_type": "markdown",
   "metadata": {},
   "source": [
    "The **photographers** dataset calculates the *number of people taking photos* in each H3 hex. Grouping the points by hex and photographer takes a while:"
   ]
  },
  {
   "cell_type": "code",
   "execution_count": 9,
   "id": "467c6259",
   "metadata": {},
   "outputs": [],
   "source": [
    "photographers = QueryResult.create(photos_query, resolution=8, name='photographers', group_by='properties.owner')"
   ]
  },
  {
   "cell_type": "markdown",
   "id": "f5bc92e6",
   "metadata": {},
   "source": [
    "The **trips** dataset calculates the *number of trips leaving from all transit stops* in the H3 hex in a single day. This shouldn't take too long:"
   ]
  },
  {
   "cell_type": "code",
   "execution_count": 10,
   "metadata": {},
   "outputs": [],
   "source": [
    "trips = QueryResult.create(stops_query, resolution=8, name='trips', plot='sum', column='properties.ntrips')"
   ]
  },
  {
   "cell_type": "markdown",
   "metadata": {},
   "source": [
    "The **access** dataset calculates the *average walking time to 5th closest amenity* in each H3 hex. The amount of walking nodes is quite big so this is a slow query:"
   ]
  },
  {
   "cell_type": "code",
   "execution_count": 11,
   "metadata": {},
   "outputs": [],
   "source": [
    "access = QueryResult.create(access_points_query, resolution=8, name='access', plot='mean', column='accessibilities.5')"
   ]
  },
  {
   "cell_type": "markdown",
   "metadata": {},
   "source": [
    "The **devices** dataset calculates the *number of broadband devices* making speedtests in each H3 hex. (Alternatively, we could consider the average broadband speeds in the hex.) This should be fast:"
   ]
  },
  {
   "cell_type": "code",
   "execution_count": 12,
   "metadata": {},
   "outputs": [],
   "source": [
    "speeds = QueryResult.create(ookla_query, resolution=8, name='speeds', plot='mean', column='properties.avg_d_kbps')\n",
    "devices = QueryResult.create(ookla_query, resolution=8, name='devices', plot='sum', column='properties.devices')"
   ]
  },
  {
   "cell_type": "markdown",
   "metadata": {},
   "source": [
    "The **population** dataset contains the *approximate population* in the H3 hex. This should be fast:"
   ]
  },
  {
   "cell_type": "code",
   "execution_count": 13,
   "metadata": {},
   "outputs": [],
   "source": [
    "population = QueryResult.create(kontur_query, resolution=8, name='population', plot='sum', column='properties.population')"
   ]
  },
  {
   "cell_type": "markdown",
   "metadata": {},
   "source": [
    "Visualization\n",
    "-------------\n",
    "\n",
    "Once the QueryResults exist, calculating the sum map from dataframes should be relatively fast. Layer weights in the sum may be customized here if you want to emphasize or leave out some datasets.\n",
    "\n",
    "(Note that access layer has *negative* weight, because smaller walking times indicate better pedestrian access to amenities.)"
   ]
  },
  {
   "cell_type": "code",
   "execution_count": 14,
   "id": "30d2cdce",
   "metadata": {},
   "outputs": [],
   "source": [
    "results = [photographers, trips, access, devices, population]\n",
    "columns = ['size', 'ntrips', '5', 'devices', 'population']\n",
    "weights = [1, 1, -1, 1, 1]"
   ]
  },
  {
   "cell_type": "code",
   "execution_count": 15,
   "id": "4d83ac7a",
   "metadata": {
    "scrolled": false
   },
   "outputs": [
    {
     "name": "stdout",
     "output_type": "stream",
     "text": [
      "User Guide: https://docs.kepler.gl/docs/keplergl-jupyter\n",
      "\n",
      "Global spatial autocorrelation:\n",
      "Moran's I:   0.848\n",
      "p-value:     0.001\n",
      "\n",
      "Distribution of clusters/outliers (quadrants):\n",
      "LL    612\n",
      "HH    418\n",
      "HL     48\n",
      "LH     45\n",
      "Name: quadrant, dtype: int64\n",
      "\n",
      "Significant clusters (using significance threshold 0.005):\n",
      "False    781\n",
      "True     342\n",
      "Name: significant, dtype: int64\n",
      "Map saved to ../server/maps/copenhagen.html!\n"
     ]
    },
    {
     "data": {
      "application/vnd.jupyter.widget-view+json": {
       "model_id": "bfc23d4c72454732992ddce86f1ae381",
       "version_major": 2,
       "version_minor": 0
      },
      "text/plain": [
       "KeplerGl(config={'version': 'v1', 'config': {'visState': {'filters': [{'dataId': ['clusters'], 'id': '0i7a3fmz…"
      ]
     },
     "metadata": {},
     "output_type": "display_data"
    }
   ],
   "source": [
    "result_map = generate_map(results, 500, config=config, column=columns, weights=weights, clusters=0.005)\n",
    "result_map.save_to_html(file_name=f\"../server/maps/{city}.html\")\n",
    "result_map"
   ]
  },
  {
   "cell_type": "code",
   "execution_count": 8,
   "metadata": {},
   "outputs": [
    {
     "data": {
      "text/plain": [
       "<ipygis.gis_utils.QueryResult at 0x40550c3910>"
      ]
     },
     "execution_count": 8,
     "metadata": {},
     "output_type": "execute_result"
    }
   ],
   "source": [
    "devices"
   ]
  },
  {
   "cell_type": "code",
   "execution_count": 9,
   "metadata": {},
   "outputs": [
    {
     "data": {
      "text/html": [
       "<div>\n",
       "<style scoped>\n",
       "    .dataframe tbody tr th:only-of-type {\n",
       "        vertical-align: middle;\n",
       "    }\n",
       "\n",
       "    .dataframe tbody tr th {\n",
       "        vertical-align: top;\n",
       "    }\n",
       "\n",
       "    .dataframe thead th {\n",
       "        text-align: right;\n",
       "    }\n",
       "</style>\n",
       "<table border=\"1\" class=\"dataframe\">\n",
       "  <thead>\n",
       "    <tr style=\"text-align: right;\">\n",
       "      <th></th>\n",
       "      <th>devices</th>\n",
       "      <th>geometry</th>\n",
       "      <th>hex8</th>\n",
       "      <th>normalized</th>\n",
       "    </tr>\n",
       "    <tr>\n",
       "      <th>hex8</th>\n",
       "      <th></th>\n",
       "      <th></th>\n",
       "      <th></th>\n",
       "      <th></th>\n",
       "    </tr>\n",
       "  </thead>\n",
       "  <tbody>\n",
       "    <tr>\n",
       "      <th>881f0061c7fffff</th>\n",
       "      <td>73</td>\n",
       "      <td>POINT (12.1431975895452791 54.0865820495134031)</td>\n",
       "      <td>881f0061c7fffff</td>\n",
       "      <td>0.088916</td>\n",
       "    </tr>\n",
       "    <tr>\n",
       "      <th>881f0061c1fffff</th>\n",
       "      <td>35</td>\n",
       "      <td>POINT (12.1399088603757868 54.0935499759708023)</td>\n",
       "      <td>881f0061c1fffff</td>\n",
       "      <td>0.042631</td>\n",
       "    </tr>\n",
       "    <tr>\n",
       "      <th>881f00635dfffff</th>\n",
       "      <td>12</td>\n",
       "      <td>POINT (12.0479750857779262 54.1565385985282504)</td>\n",
       "      <td>881f00635dfffff</td>\n",
       "      <td>0.014616</td>\n",
       "    </tr>\n",
       "    <tr>\n",
       "      <th>881f006155fffff</th>\n",
       "      <td>16</td>\n",
       "      <td>POINT (12.0743635955596194 54.1008591448480018)</td>\n",
       "      <td>881f006155fffff</td>\n",
       "      <td>0.019488</td>\n",
       "    </tr>\n",
       "    <tr>\n",
       "      <th>881f0061c5fffff</th>\n",
       "      <td>54</td>\n",
       "      <td>POINT (12.1300897800501790 54.0880476627352280)</td>\n",
       "      <td>881f0061c5fffff</td>\n",
       "      <td>0.065773</td>\n",
       "    </tr>\n",
       "    <tr>\n",
       "      <th>...</th>\n",
       "      <td>...</td>\n",
       "      <td>...</td>\n",
       "      <td>...</td>\n",
       "      <td>...</td>\n",
       "    </tr>\n",
       "    <tr>\n",
       "      <th>8808996a97fffff</th>\n",
       "      <td>3</td>\n",
       "      <td>POINT (24.7283136407836253 60.2597615958787856)</td>\n",
       "      <td>8808996a97fffff</td>\n",
       "      <td>0.003654</td>\n",
       "    </tr>\n",
       "    <tr>\n",
       "      <th>881126d76bfffff</th>\n",
       "      <td>3</td>\n",
       "      <td>POINT (24.9998813680096639 60.2873336420900472)</td>\n",
       "      <td>881126d76bfffff</td>\n",
       "      <td>0.003654</td>\n",
       "    </tr>\n",
       "    <tr>\n",
       "      <th>881126d56bfffff</th>\n",
       "      <td>4</td>\n",
       "      <td>POINT (25.0925628931148381 60.2750859106223373)</td>\n",
       "      <td>881126d56bfffff</td>\n",
       "      <td>0.004872</td>\n",
       "    </tr>\n",
       "    <tr>\n",
       "      <th>8808996129fffff</th>\n",
       "      <td>4</td>\n",
       "      <td>POINT (24.6145886123668376 60.2395044246489633)</td>\n",
       "      <td>8808996129fffff</td>\n",
       "      <td>0.004872</td>\n",
       "    </tr>\n",
       "    <tr>\n",
       "      <th>881126d047fffff</th>\n",
       "      <td>3</td>\n",
       "      <td>POINT (24.9540346615321198 60.2021208264604368)</td>\n",
       "      <td>881126d047fffff</td>\n",
       "      <td>0.003654</td>\n",
       "    </tr>\n",
       "  </tbody>\n",
       "</table>\n",
       "<p>8289 rows × 4 columns</p>\n",
       "</div>"
      ],
      "text/plain": [
       "                 devices                                         geometry  \\\n",
       "hex8                                                                        \n",
       "881f0061c7fffff       73  POINT (12.1431975895452791 54.0865820495134031)   \n",
       "881f0061c1fffff       35  POINT (12.1399088603757868 54.0935499759708023)   \n",
       "881f00635dfffff       12  POINT (12.0479750857779262 54.1565385985282504)   \n",
       "881f006155fffff       16  POINT (12.0743635955596194 54.1008591448480018)   \n",
       "881f0061c5fffff       54  POINT (12.1300897800501790 54.0880476627352280)   \n",
       "...                  ...                                              ...   \n",
       "8808996a97fffff        3  POINT (24.7283136407836253 60.2597615958787856)   \n",
       "881126d76bfffff        3  POINT (24.9998813680096639 60.2873336420900472)   \n",
       "881126d56bfffff        4  POINT (25.0925628931148381 60.2750859106223373)   \n",
       "8808996129fffff        4  POINT (24.6145886123668376 60.2395044246489633)   \n",
       "881126d047fffff        3  POINT (24.9540346615321198 60.2021208264604368)   \n",
       "\n",
       "                            hex8  normalized  \n",
       "hex8                                          \n",
       "881f0061c7fffff  881f0061c7fffff    0.088916  \n",
       "881f0061c1fffff  881f0061c1fffff    0.042631  \n",
       "881f00635dfffff  881f00635dfffff    0.014616  \n",
       "881f006155fffff  881f006155fffff    0.019488  \n",
       "881f0061c5fffff  881f0061c5fffff    0.065773  \n",
       "...                          ...         ...  \n",
       "8808996a97fffff  8808996a97fffff    0.003654  \n",
       "881126d76bfffff  881126d76bfffff    0.003654  \n",
       "881126d56bfffff  881126d56bfffff    0.004872  \n",
       "8808996129fffff  8808996129fffff    0.004872  \n",
       "881126d047fffff  881126d047fffff    0.003654  \n",
       "\n",
       "[8289 rows x 4 columns]"
      ]
     },
     "execution_count": 9,
     "metadata": {},
     "output_type": "execute_result"
    }
   ],
   "source": [
    "devices.gdf"
   ]
  },
  {
   "cell_type": "code",
   "execution_count": 26,
   "metadata": {},
   "outputs": [
    {
     "data": {
      "text/plain": [
       "9129"
      ]
     },
     "execution_count": 26,
     "metadata": {},
     "output_type": "execute_result"
    }
   ],
   "source": [
    "len(photographers.gdf)"
   ]
  },
  {
   "cell_type": "code",
   "execution_count": null,
   "metadata": {},
   "outputs": [],
   "source": []
  }
 ],
 "metadata": {
  "kernelspec": {
   "display_name": "Python 3",
   "language": "python",
   "name": "python3"
  },
  "language_info": {
   "codemirror_mode": {
    "name": "ipython",
    "version": 3
   },
   "file_extension": ".py",
   "mimetype": "text/x-python",
   "name": "python",
   "nbconvert_exporter": "python",
   "pygments_lexer": "ipython3",
   "version": "3.8.5"
  }
 },
 "nbformat": 4,
 "nbformat_minor": 5
}
